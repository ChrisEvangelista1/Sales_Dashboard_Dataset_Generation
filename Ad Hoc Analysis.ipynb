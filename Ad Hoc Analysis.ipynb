{
 "cells": [
  {
   "cell_type": "markdown",
   "id": "37393fc4-66e4-4a26-a430-f38f853e7bcf",
   "metadata": {},
   "source": [
    "# Toyz Ad Hoc Analysis"
   ]
  },
  {
   "cell_type": "markdown",
   "id": "2985ce44-909d-414e-adb5-6e0cacd0d109",
   "metadata": {},
   "source": [
    "## Imports & Setup"
   ]
  },
  {
   "cell_type": "code",
   "execution_count": 23,
   "id": "e29883ee-e799-4844-8a77-d584fc3ae372",
   "metadata": {
    "editable": true,
    "slideshow": {
     "slide_type": ""
    },
    "tags": []
   },
   "outputs": [],
   "source": [
    "import pandas as pd\n",
    "import numpy as np\n",
    "import matplotlib.pyplot as plt\n",
    "\n",
    "pd.set_option('display.float_format', '{:,.0f}'.format)"
   ]
  },
  {
   "cell_type": "code",
   "execution_count": 25,
   "id": "9c250ae2-3d0f-411f-9e3e-3d8b488d417c",
   "metadata": {
    "editable": true,
    "slideshow": {
     "slide_type": ""
    },
    "tags": []
   },
   "outputs": [],
   "source": [
    "financials_df = pd.read_csv(r'C:\\Users\\cneva\\Projects\\Toy Sales\\Datasets\\financials.csv')\n",
    "financials_df.order_date = financials_df.order_date.astype('datetime64[ns]')\n",
    "bom_df = pd.read_csv(r'C:\\Users\\cneva\\Projects\\Toy Sales\\Datasets\\bom.csv')"
   ]
  },
  {
   "cell_type": "code",
   "execution_count": 27,
   "id": "85b495d0-05e1-404f-9837-aedaca70b00f",
   "metadata": {},
   "outputs": [
    {
     "name": "stdout",
     "output_type": "stream",
     "text": [
      "<class 'pandas.core.frame.DataFrame'>\n",
      "RangeIndex: 22496 entries, 0 to 22495\n",
      "Data columns (total 16 columns):\n",
      " #   Column           Non-Null Count  Dtype         \n",
      "---  ------           --------------  -----         \n",
      " 0   order_date       22496 non-null  datetime64[ns]\n",
      " 1   store_id         22496 non-null  object        \n",
      " 2   sku              22496 non-null  object        \n",
      " 3   actual_quantity  9800 non-null   float64       \n",
      " 4   actual_sales     9800 non-null   float64       \n",
      " 5   target_quantity  22494 non-null  float64       \n",
      " 6   target_sales     22494 non-null  float64       \n",
      " 7   py_quantity      22494 non-null  float64       \n",
      " 8   py_sales         22494 non-null  float64       \n",
      " 9   total_cost       22496 non-null  float64       \n",
      " 10  actual_cost      9800 non-null   float64       \n",
      " 11  py_cost          22494 non-null  float64       \n",
      " 12  target_cost      22494 non-null  float64       \n",
      " 13  actual_margin    9800 non-null   float64       \n",
      " 14  py_margin        22494 non-null  float64       \n",
      " 15  target_margin    22494 non-null  float64       \n",
      "dtypes: datetime64[ns](1), float64(13), object(2)\n",
      "memory usage: 2.7+ MB\n"
     ]
    }
   ],
   "source": [
    "financials_df.info()"
   ]
  },
  {
   "cell_type": "markdown",
   "id": "d8d5133c-6564-4f4a-9b5f-2a83b2a9f6a3",
   "metadata": {},
   "source": [
    "## #1. Cost Increase\n",
    "- Supply chain is forecasting the cost of plastic to go up 10% in Q3 and another 5% in Q4\n",
    "- Calculate the impact on costs and margin at the BOM level\n",
    "    - Year end total costs will go up 7% and margin will be down -31%\n",
    "    - [Results](#Results)"
   ]
  },
  {
   "cell_type": "code",
   "execution_count": 29,
   "id": "0b1258e1-34e2-48ad-8bdc-d3a5dc2b3b8e",
   "metadata": {
    "editable": true,
    "slideshow": {
     "slide_type": ""
    },
    "tags": []
   },
   "outputs": [
    {
     "data": {
      "text/plain": [
       "Timestamp('2024-06-01 00:00:00')"
      ]
     },
     "execution_count": 29,
     "metadata": {},
     "output_type": "execute_result"
    }
   ],
   "source": [
    "# Get the date for latest actual sales\n",
    "def max_actual_date():\n",
    "    return \\\n",
    "    (financials_df[['order_date', 'actual_sales']]\n",
    "    .dropna()\n",
    "    .order_date\n",
    "    .max()\n",
    "    )\n",
    "\n",
    "max_actual_date()"
   ]
  },
  {
   "cell_type": "code",
   "execution_count": 31,
   "id": "49ec8a38-2545-4899-ae3e-3b8af38e66cf",
   "metadata": {
    "editable": true,
    "slideshow": {
     "slide_type": ""
    },
    "tags": []
   },
   "outputs": [
    {
     "data": {
      "text/html": [
       "<div>\n",
       "<style scoped>\n",
       "    .dataframe tbody tr th:only-of-type {\n",
       "        vertical-align: middle;\n",
       "    }\n",
       "\n",
       "    .dataframe tbody tr th {\n",
       "        vertical-align: top;\n",
       "    }\n",
       "\n",
       "    .dataframe thead th {\n",
       "        text-align: right;\n",
       "    }\n",
       "</style>\n",
       "<table border=\"1\" class=\"dataframe\">\n",
       "  <thead>\n",
       "    <tr style=\"text-align: right;\">\n",
       "      <th></th>\n",
       "      <th>order_date</th>\n",
       "    </tr>\n",
       "  </thead>\n",
       "  <tbody>\n",
       "    <tr>\n",
       "      <th>0</th>\n",
       "      <td>2024-07-01</td>\n",
       "    </tr>\n",
       "    <tr>\n",
       "      <th>1</th>\n",
       "      <td>2024-08-01</td>\n",
       "    </tr>\n",
       "    <tr>\n",
       "      <th>2</th>\n",
       "      <td>2024-09-01</td>\n",
       "    </tr>\n",
       "    <tr>\n",
       "      <th>3</th>\n",
       "      <td>2024-10-01</td>\n",
       "    </tr>\n",
       "    <tr>\n",
       "      <th>4</th>\n",
       "      <td>2024-11-01</td>\n",
       "    </tr>\n",
       "    <tr>\n",
       "      <th>5</th>\n",
       "      <td>2024-12-01</td>\n",
       "    </tr>\n",
       "  </tbody>\n",
       "</table>\n",
       "</div>"
      ],
      "text/plain": [
       "  order_date\n",
       "0 2024-07-01\n",
       "1 2024-08-01\n",
       "2 2024-09-01\n",
       "3 2024-10-01\n",
       "4 2024-11-01\n",
       "5 2024-12-01"
      ]
     },
     "execution_count": 31,
     "metadata": {},
     "output_type": "execute_result"
    }
   ],
   "source": [
    "# Get the months to forecast on\n",
    "def forecast_months():\n",
    "    return \\\n",
    "    (financials_df\n",
    "     .query(\"order_date > @max_actual_date()\")\n",
    "     .order_date.to_frame()\n",
    "     .drop_duplicates()\n",
    "     .reset_index(drop = True)\n",
    "    )\n",
    "\n",
    "forecast_months()"
   ]
  },
  {
   "cell_type": "code",
   "execution_count": 35,
   "id": "829e2345-2d7d-47ec-9af6-20ef0bbefe79",
   "metadata": {
    "editable": true,
    "slideshow": {
     "slide_type": ""
    },
    "tags": []
   },
   "outputs": [
    {
     "data": {
      "text/html": [
       "<div>\n",
       "<style scoped>\n",
       "    .dataframe tbody tr th:only-of-type {\n",
       "        vertical-align: middle;\n",
       "    }\n",
       "\n",
       "    .dataframe tbody tr th {\n",
       "        vertical-align: top;\n",
       "    }\n",
       "\n",
       "    .dataframe thead th {\n",
       "        text-align: right;\n",
       "    }\n",
       "</style>\n",
       "<table border=\"1\" class=\"dataframe\">\n",
       "  <thead>\n",
       "    <tr style=\"text-align: right;\">\n",
       "      <th></th>\n",
       "      <th>sku</th>\n",
       "      <th>order_date</th>\n",
       "      <th>old_cost</th>\n",
       "      <th>new_cost</th>\n",
       "    </tr>\n",
       "  </thead>\n",
       "  <tbody>\n",
       "    <tr>\n",
       "      <th>0</th>\n",
       "      <td>A100</td>\n",
       "      <td>2024-07-01</td>\n",
       "      <td>30</td>\n",
       "      <td>33</td>\n",
       "    </tr>\n",
       "    <tr>\n",
       "      <th>1</th>\n",
       "      <td>A100</td>\n",
       "      <td>2024-08-01</td>\n",
       "      <td>30</td>\n",
       "      <td>33</td>\n",
       "    </tr>\n",
       "    <tr>\n",
       "      <th>2</th>\n",
       "      <td>A100</td>\n",
       "      <td>2024-09-01</td>\n",
       "      <td>30</td>\n",
       "      <td>33</td>\n",
       "    </tr>\n",
       "    <tr>\n",
       "      <th>3</th>\n",
       "      <td>A100</td>\n",
       "      <td>2024-10-01</td>\n",
       "      <td>30</td>\n",
       "      <td>35</td>\n",
       "    </tr>\n",
       "    <tr>\n",
       "      <th>4</th>\n",
       "      <td>A100</td>\n",
       "      <td>2024-11-01</td>\n",
       "      <td>30</td>\n",
       "      <td>35</td>\n",
       "    </tr>\n",
       "    <tr>\n",
       "      <th>...</th>\n",
       "      <td>...</td>\n",
       "      <td>...</td>\n",
       "      <td>...</td>\n",
       "      <td>...</td>\n",
       "    </tr>\n",
       "    <tr>\n",
       "      <th>145</th>\n",
       "      <td>C102</td>\n",
       "      <td>2024-08-01</td>\n",
       "      <td>21</td>\n",
       "      <td>21</td>\n",
       "    </tr>\n",
       "    <tr>\n",
       "      <th>146</th>\n",
       "      <td>C102</td>\n",
       "      <td>2024-09-01</td>\n",
       "      <td>21</td>\n",
       "      <td>21</td>\n",
       "    </tr>\n",
       "    <tr>\n",
       "      <th>147</th>\n",
       "      <td>C102</td>\n",
       "      <td>2024-10-01</td>\n",
       "      <td>21</td>\n",
       "      <td>22</td>\n",
       "    </tr>\n",
       "    <tr>\n",
       "      <th>148</th>\n",
       "      <td>C102</td>\n",
       "      <td>2024-11-01</td>\n",
       "      <td>21</td>\n",
       "      <td>22</td>\n",
       "    </tr>\n",
       "    <tr>\n",
       "      <th>149</th>\n",
       "      <td>C102</td>\n",
       "      <td>2024-12-01</td>\n",
       "      <td>21</td>\n",
       "      <td>22</td>\n",
       "    </tr>\n",
       "  </tbody>\n",
       "</table>\n",
       "<p>150 rows × 4 columns</p>\n",
       "</div>"
      ],
      "text/plain": [
       "      sku order_date  old_cost  new_cost\n",
       "0    A100 2024-07-01        30        33\n",
       "1    A100 2024-08-01        30        33\n",
       "2    A100 2024-09-01        30        33\n",
       "3    A100 2024-10-01        30        35\n",
       "4    A100 2024-11-01        30        35\n",
       "..    ...        ...       ...       ...\n",
       "145  C102 2024-08-01        21        21\n",
       "146  C102 2024-09-01        21        21\n",
       "147  C102 2024-10-01        21        22\n",
       "148  C102 2024-11-01        21        22\n",
       "149  C102 2024-12-01        21        22\n",
       "\n",
       "[150 rows x 4 columns]"
      ]
     },
     "execution_count": 35,
     "metadata": {},
     "output_type": "execute_result"
    }
   ],
   "source": [
    "# Increases the cost by a given percentage for dates after a specified period.\n",
    "def increase_cost_after_dates(df, dates, percentages):\n",
    "    if len(dates) != len(percentages):\n",
    "        raise ValueError(\"The inputted number of dates and percentages don't match\")\n",
    "        \n",
    "    df['new_cost'] = df['cost_ext']\n",
    "    for date_str, percentage in zip(dates, percentages):\n",
    "        date = pd.to_datetime(date_str)\n",
    "        df.loc[(df['order_date'] >= date) & (df['material'] == 'plastic'), 'new_cost'] *= (1 + percentage / 100)\n",
    "    return df\n",
    "\n",
    "# Return a dataframe of SKU-Parts for each forecast month\n",
    "def merge_parts_and_dates():\n",
    "    return (pd.merge(bom_df, forecast_months(),how = 'cross'))\n",
    "\n",
    "# Return a dataframe with new costs\n",
    "new_cost_df = \\\n",
    "(increase_cost_after_dates(merge_parts_and_dates(), ['2024-07-01', '2024-10-01'], [10, 5])\n",
    " .groupby(['sku', 'order_date'])\n",
    " .agg(\n",
    "     old_cost = ('cost_ext', 'sum'),\n",
    "     new_cost = ('new_cost', 'sum')\n",
    " )\n",
    " .reset_index()\n",
    ")\n",
    "\n",
    "new_cost_df"
   ]
  },
  {
   "cell_type": "code",
   "execution_count": 37,
   "id": "8a127dab-439c-4772-a3c6-50875f2ea28a",
   "metadata": {
    "editable": true,
    "slideshow": {
     "slide_type": ""
    },
    "tags": []
   },
   "outputs": [
    {
     "data": {
      "text/html": [
       "<div>\n",
       "<style scoped>\n",
       "    .dataframe tbody tr th:only-of-type {\n",
       "        vertical-align: middle;\n",
       "    }\n",
       "\n",
       "    .dataframe tbody tr th {\n",
       "        vertical-align: top;\n",
       "    }\n",
       "\n",
       "    .dataframe thead th {\n",
       "        text-align: right;\n",
       "    }\n",
       "</style>\n",
       "<table border=\"1\" class=\"dataframe\">\n",
       "  <thead>\n",
       "    <tr style=\"text-align: right;\">\n",
       "      <th></th>\n",
       "      <th>cost</th>\n",
       "      <th>new_cost</th>\n",
       "      <th>margin</th>\n",
       "      <th>new_margin</th>\n",
       "    </tr>\n",
       "    <tr>\n",
       "      <th>order_date</th>\n",
       "      <th></th>\n",
       "      <th></th>\n",
       "      <th></th>\n",
       "      <th></th>\n",
       "    </tr>\n",
       "  </thead>\n",
       "  <tbody>\n",
       "    <tr>\n",
       "      <th>2024-07-01</th>\n",
       "      <td>20,707,980</td>\n",
       "      <td>21,907,005</td>\n",
       "      <td>4,981,198</td>\n",
       "      <td>3,782,174</td>\n",
       "    </tr>\n",
       "    <tr>\n",
       "      <th>2024-08-01</th>\n",
       "      <td>20,904,883</td>\n",
       "      <td>22,105,347</td>\n",
       "      <td>4,957,436</td>\n",
       "      <td>3,756,971</td>\n",
       "    </tr>\n",
       "    <tr>\n",
       "      <th>2024-09-01</th>\n",
       "      <td>19,822,108</td>\n",
       "      <td>20,966,380</td>\n",
       "      <td>4,722,321</td>\n",
       "      <td>3,578,048</td>\n",
       "    </tr>\n",
       "    <tr>\n",
       "      <th>2024-10-01</th>\n",
       "      <td>20,993,376</td>\n",
       "      <td>22,863,712</td>\n",
       "      <td>5,002,691</td>\n",
       "      <td>3,132,356</td>\n",
       "    </tr>\n",
       "    <tr>\n",
       "      <th>2024-11-01</th>\n",
       "      <td>20,160,221</td>\n",
       "      <td>21,954,920</td>\n",
       "      <td>4,753,256</td>\n",
       "      <td>2,958,556</td>\n",
       "    </tr>\n",
       "    <tr>\n",
       "      <th>2024-12-01</th>\n",
       "      <td>20,731,581</td>\n",
       "      <td>22,567,577</td>\n",
       "      <td>4,935,573</td>\n",
       "      <td>3,099,577</td>\n",
       "    </tr>\n",
       "  </tbody>\n",
       "</table>\n",
       "</div>"
      ],
      "text/plain": [
       "                 cost   new_cost    margin  new_margin\n",
       "order_date                                            \n",
       "2024-07-01 20,707,980 21,907,005 4,981,198   3,782,174\n",
       "2024-08-01 20,904,883 22,105,347 4,957,436   3,756,971\n",
       "2024-09-01 19,822,108 20,966,380 4,722,321   3,578,048\n",
       "2024-10-01 20,993,376 22,863,712 5,002,691   3,132,356\n",
       "2024-11-01 20,160,221 21,954,920 4,753,256   2,958,556\n",
       "2024-12-01 20,731,581 22,567,577 4,935,573   3,099,577"
      ]
     },
     "execution_count": 37,
     "metadata": {},
     "output_type": "execute_result"
    }
   ],
   "source": [
    "\n",
    "fc_df = \\\n",
    "(financials_df\n",
    " .query(\"order_date > @max_actual_date()\")\n",
    " .merge(new_cost_df)\n",
    " .assign(\n",
    "     old_cost_ext = lambda df: df.target_quantity * df.old_cost,\n",
    "     new_cost_ext = lambda df: df.target_quantity * df.new_cost,\n",
    "     old_margin = lambda df: df.target_sales - df.old_cost_ext,\n",
    "     new_margin = lambda df: df.target_sales - df.new_cost_ext,\n",
    " )\n",
    " .groupby('order_date')\n",
    " .agg(\n",
    "     cost = ('old_cost_ext', 'sum'),\n",
    "     new_cost = ('new_cost_ext', 'sum'),\n",
    "     margin = ('old_margin', 'sum'),\n",
    "     new_margin = ('new_margin', 'sum')\n",
    " )\n",
    ")\n",
    "fc_df"
   ]
  },
  {
   "cell_type": "markdown",
   "id": "9c9768c0-db7c-4bd7-99b1-3813bde72c84",
   "metadata": {},
   "source": [
    "### Results"
   ]
  },
  {
   "cell_type": "code",
   "execution_count": 39,
   "id": "43360d02-19cb-4e0f-ac22-6e5917be44e2",
   "metadata": {
    "editable": true,
    "slideshow": {
     "slide_type": ""
    },
    "tags": []
   },
   "outputs": [
    {
     "data": {
      "image/png": "[encoded data removed]",
      "text/plain": [
       "<Figure size 1200x500 with 2 Axes>"
      ]
     },
     "metadata": {},
     "output_type": "display_data"
    }
   ],
   "source": [
    "fig, ax = plt.subplots(1, 2, figsize=(12, 5), sharex=True)\n",
    "fc_df[['cost','new_cost']].plot(ax = ax[0])\n",
    "fc_df[['margin','new_margin']].plot(ax = ax[1])\n",
    "plt.show()"
   ]
  },
  {
   "cell_type": "code",
   "execution_count": 43,
   "id": "fed53509-2a16-4a87-88ee-9d19669d7ba8",
   "metadata": {
    "editable": true,
    "slideshow": {
     "slide_type": ""
    },
    "tags": []
   },
   "outputs": [
    {
     "data": {
      "text/html": [
       "<div>\n",
       "<style scoped>\n",
       "    .dataframe tbody tr th:only-of-type {\n",
       "        vertical-align: middle;\n",
       "    }\n",
       "\n",
       "    .dataframe tbody tr th {\n",
       "        vertical-align: top;\n",
       "    }\n",
       "\n",
       "    .dataframe thead th {\n",
       "        text-align: right;\n",
       "    }\n",
       "</style>\n",
       "<table border=\"1\" class=\"dataframe\">\n",
       "  <thead>\n",
       "    <tr style=\"text-align: right;\">\n",
       "      <th></th>\n",
       "      <th>cost</th>\n",
       "      <th>margin</th>\n",
       "    </tr>\n",
       "  </thead>\n",
       "  <tbody>\n",
       "    <tr>\n",
       "      <th>original</th>\n",
       "      <td>123,320,148</td>\n",
       "      <td>29,352,476</td>\n",
       "    </tr>\n",
       "    <tr>\n",
       "      <th>new</th>\n",
       "      <td>132,364,941</td>\n",
       "      <td>20,307,683</td>\n",
       "    </tr>\n",
       "    <tr>\n",
       "      <th>diff</th>\n",
       "      <td>9,044,793</td>\n",
       "      <td>-9,044,793</td>\n",
       "    </tr>\n",
       "    <tr>\n",
       "      <th>perc_change</th>\n",
       "      <td>7.3%</td>\n",
       "      <td>-30.8%</td>\n",
       "    </tr>\n",
       "  </tbody>\n",
       "</table>\n",
       "</div>"
      ],
      "text/plain": [
       "                   cost     margin\n",
       "original    123,320,148 29,352,476\n",
       "new         132,364,941 20,307,683\n",
       "diff          9,044,793 -9,044,793\n",
       "perc_change        7.3%     -30.8%"
      ]
     },
     "execution_count": 43,
     "metadata": {},
     "output_type": "execute_result"
    }
   ],
   "source": [
    "def result_cost():\n",
    "    return \\\n",
    "    (fc_df[['cost','new_cost']]\n",
    "     .sum()\n",
    "     .to_frame().T\n",
    "     .rename(columns = {'cost': 'original', 'new_cost': 'new'})\n",
    "     .assign(\n",
    "         diff = lambda df: df['new'] - df['original'],\n",
    "         perc_change=lambda df: (df['diff'] / df['original'] * 100).map(lambda x: f\"{x:.1f}%\")\n",
    "    \n",
    "     )\n",
    "     .T.rename(columns = {0: 'cost'})\n",
    "    )\n",
    "\n",
    "def result_margin():\n",
    "    return \\\n",
    "    (fc_df[['margin','new_margin']]\n",
    "     .sum()\n",
    "     .to_frame().T\n",
    "     .rename(columns = {'margin': 'original', 'new_margin': 'new'})\n",
    "     .assign(\n",
    "         diff = lambda df: df['new'] - df['original'],\n",
    "         perc_change=lambda df: (df['diff'] / df['original'] * 100).map(lambda x: f\"{x:.1f}%\")\n",
    "    \n",
    "     )\n",
    "     .T.rename(columns = {0: 'margin'})\n",
    "    )\n",
    "\n",
    "def results():\n",
    "    return \\\n",
    "    pd.concat([result_cost(), result_margin()], axis = 1)\n",
    "\n",
    "results()"
   ]
  }
 ],
 "metadata": {
  "kernelspec": {
   "display_name": "Python 3 (ipykernel)",
   "language": "python",
   "name": "python3"
  },
  "language_info": {
   "codemirror_mode": {
    "name": "ipython",
    "version": 3
   },
   "file_extension": ".py",
   "mimetype": "text/x-python",
   "name": "python",
   "nbconvert_exporter": "python",
   "pygments_lexer": "ipython3",
   "version": "3.11.7"
  }
 },
 "nbformat": 4,
 "nbformat_minor": 5
}
