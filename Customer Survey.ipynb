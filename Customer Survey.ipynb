{
 "cells": [
  {
   "cell_type": "code",
   "execution_count": 94,
   "id": "f94d3f7a-570a-4bed-884b-b480c6c5b335",
   "metadata": {
    "editable": true,
    "slideshow": {
     "slide_type": ""
    },
    "tags": []
   },
   "outputs": [],
   "source": [
    "import pandas as pd\n",
    "import numpy as np\n",
    "import random\n",
    "from faker import Faker\n",
    "\n",
    "fake = Faker()\n",
    "Faker.seed(123)\n",
    "np.random.seed(123)\n",
    "random.seed(123)\n",
    "\n",
    "states_list = ['Maine', 'New Hampshire', 'Vermont', 'Massachusetts', 'Rhode Island', 'Connecticut', 'New York', 'New Jersey', 'Pennsylvania']\n",
    "\n",
    "# Define functions or dictionaries to map attributes to termination probabilities\n",
    "def gen_purchase_again_prob(product_category, collection, income, different_media, where_learn):\n",
    "    base_probability = 0.350  # Base probability of purchase_again = Yes\n",
    "\n",
    "    if product_category == 'Action Figure':\n",
    "        base_probability += 0.05\n",
    "    elif product_category == 'Plush':\n",
    "        base_probability += 0.03\n",
    "\n",
    "    if collection == 'Yes':\n",
    "        base_probability += 0.20\n",
    "\n",
    "    if income == '100k+':\n",
    "        base_probability += 0.08\n",
    "    elif income == '50-100k':\n",
    "        base_probability += 0.4\n",
    "\n",
    "    if different_media == 'Yes':\n",
    "        base_probability += 0.15\n",
    "\n",
    "    if where_learn == 'Commercial':\n",
    "        base_probability += 0.10\n",
    "    \n",
    "    yes_probability = max(0, min(1, base_probability)) # Ensure probability is within valid range (0 to 1)\n",
    "    \n",
    "    return np.random.choice(['Yes', 'No'], p = [yes_probability, 1 - yes_probability])\n",
    "\n",
    "def create_survey_df(rows = 100):\n",
    "\n",
    "    dataset = []\n",
    "    for rows in range(rows):\n",
    "        date = fake.date_time_between(start_date=datetime(2020,1,1), end_date=datetime(2023, 12, 31)).date()\n",
    "        state = np.random.choice(states_list)\n",
    "        product_category = np.random.choice(['Action Figures', 'Plush', 'Puzzle'], p = [0.5, 0.3, 0.2])\n",
    "        gender = np.random.choice(['Male', 'Female', 'Other'], p = [0.52, 0.46, 0.02])\n",
    "        gift = np.random.choice(['Yes', 'No'], p = [0.35, 0.65])\n",
    "        collection = np.random.choice(['Yes', 'No', \"Don't know\"], p = [0.25, 0.40, 0.35])\n",
    "        income = np.random.choice(['<50k', '50k-100k',' 100k+'], p = [0.30, 0.35, 0.35])\n",
    "        different_media = np.random.choice(['Yes', 'No', \"Don't know\"], p = [0.30, 0.50, 0.20])\n",
    "        where_learn = np.random.choice(['Browsing store', 'Commercial', 'Other'], p = [0.40, 0.40, 0.20])\n",
    "        purchase_again = gen_purchase_again_prob(product_category, collection, income, different_media, where_learn)\n",
    "        record = {\n",
    "            'Date': date,\n",
    "            'State': state,\n",
    "            'Product Category': product_category,\n",
    "            'Gender': gender,\n",
    "            'Gift': gift,\n",
    "            'Collection': collection,\n",
    "            'Income': income,\n",
    "            'Different Media': different_media,\n",
    "            'Where Learn': where_learn,\n",
    "            'Purchase Again': purchase_again\n",
    "        }\n",
    "        \n",
    "        dataset.append(record)\n",
    "\n",
    "    return pd.DataFrame(dataset)\n",
    "        "
   ]
  },
  {
   "cell_type": "code",
   "execution_count": 100,
   "id": "64827042-8421-4582-a583-dfd50b2ccaeb",
   "metadata": {},
   "outputs": [],
   "source": [
    "df = create_survey_df(rows = 10_000)\n",
    "df"
   ]
  }
 ],
 "metadata": {
  "kernelspec": {
   "display_name": "Python 3 (ipykernel)",
   "language": "python",
   "name": "python3"
  },
  "language_info": {
   "codemirror_mode": {
    "name": "ipython",
    "version": 3
   },
   "file_extension": ".py",
   "mimetype": "text/x-python",
   "name": "python",
   "nbconvert_exporter": "python",
   "pygments_lexer": "ipython3",
   "version": "3.11.7"
  }
 },
 "nbformat": 4,
 "nbformat_minor": 5
}
